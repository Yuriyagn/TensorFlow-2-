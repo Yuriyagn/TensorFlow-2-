{
 "cells": [
  {
   "cell_type": "code",
   "execution_count": 1,
   "id": "initial_id",
   "metadata": {
    "collapsed": true,
    "ExecuteTime": {
     "end_time": "2024-07-12T07:26:45.176679800Z",
     "start_time": "2024-07-12T07:26:43.735676300Z"
    }
   },
   "outputs": [],
   "source": [
    "import seaborn as sns\n",
    "import tensorflow as tf\n",
    "from tensorflow import keras\n",
    "from tensorflow.keras import layers\n",
    "import matplotlib.pyplot as plt\n",
    "\n",
    "import tensorflow_probability as tfp"
   ]
  },
  {
   "cell_type": "code",
   "outputs": [
    {
     "name": "stdout",
     "output_type": "stream",
     "text": [
      "Action:  tf.Tensor([0], shape=(1,), dtype=int32)\n",
      "Action:  tf.Tensor([1], shape=(1,), dtype=int32)\n",
      "Action:  tf.Tensor([0], shape=(1,), dtype=int32)\n",
      "Action:  tf.Tensor([1], shape=(1,), dtype=int32)\n",
      "Action:  tf.Tensor([0], shape=(1,), dtype=int32)\n"
     ]
    }
   ],
   "source": [
    "binary_policy = tfp.distributions.Bernoulli(probs=0.5)\n",
    "for i in range(5):\n",
    "    action = binary_policy.sample(1)\n",
    "    print(\"Action: \", action)"
   ],
   "metadata": {
    "collapsed": false,
    "ExecuteTime": {
     "end_time": "2024-07-12T07:26:48.083954600Z",
     "start_time": "2024-07-12T07:26:48.060953Z"
    }
   },
   "id": "6ec4045818ff7a51",
   "execution_count": 2
  },
  {
   "cell_type": "code",
   "outputs": [
    {
     "data": {
      "text/plain": "<seaborn.axisgrid.FacetGrid at 0x20acf199fc8>"
     },
     "execution_count": 3,
     "metadata": {},
     "output_type": "execute_result"
    },
    {
     "data": {
      "text/plain": "<Figure size 500x500 with 1 Axes>",
      "image/png": "[encoded data removed]"
     },
     "metadata": {},
     "output_type": "display_data"
    }
   ],
   "source": [
    "sample_actions = binary_policy.sample(500)\n",
    "sns.displot(sample_actions)"
   ],
   "metadata": {
    "collapsed": false,
    "ExecuteTime": {
     "end_time": "2024-07-12T07:26:53.857648100Z",
     "start_time": "2024-07-12T07:26:53.639646600Z"
    }
   },
   "id": "bdb301c94c22e270",
   "execution_count": 3
  },
  {
   "cell_type": "code",
   "outputs": [
    {
     "name": "stdout",
     "output_type": "stream",
     "text": [
      "tf.Tensor([[0. 0. 1. 0.]], shape=(1, 4), dtype=float32)\n",
      "tf.Tensor([[0. 0. 0. 1.]], shape=(1, 4), dtype=float32)\n",
      "tf.Tensor([[1. 0. 0. 0.]], shape=(1, 4), dtype=float32)\n",
      "tf.Tensor([[0. 1. 0. 0.]], shape=(1, 4), dtype=float32)\n",
      "tf.Tensor([[1. 0. 0. 0.]], shape=(1, 4), dtype=float32)\n"
     ]
    },
    {
     "data": {
      "text/plain": "<seaborn.axisgrid.FacetGrid at 0x20ad5bc6148>"
     },
     "execution_count": 7,
     "metadata": {},
     "output_type": "execute_result"
    },
    {
     "data": {
      "text/plain": "<Figure size 557.75x500 with 1 Axes>",
      "image/png": "[encoded data removed]"
     },
     "metadata": {},
     "output_type": "display_data"
    }
   ],
   "source": [
    "action_dim = 4  # Dimension of the discrete action space\n",
    "action_probability = [0.25, 0.25, 0.25, 0.25]\n",
    "discrete_policy = tfp.distributions.Multinomial(\n",
    "    probs=action_probability, total_count=1)\n",
    "for i in range(5):\n",
    "    action = discrete_policy.sample(1)\n",
    "    print(action)\n",
    "sns.displot(discrete_policy.sample(1).numpy())"
   ],
   "metadata": {
    "collapsed": false,
    "ExecuteTime": {
     "end_time": "2024-07-12T07:27:49.102250100Z",
     "start_time": "2024-07-12T07:27:48.837252100Z"
    }
   },
   "id": "5565a4eb30419bc",
   "execution_count": 7
  },
  {
   "cell_type": "code",
   "outputs": [
    {
     "name": "stdout",
     "output_type": "stream",
     "text": [
      "tf.Tensor(1.3862944, shape=(), dtype=float32)\n"
     ]
    }
   ],
   "source": [
    "def entropy(action_probs):\n",
    "    return -tf.reduce_sum(action_probs * tf.math.log(action_probs), axis=-1)  #数学表达：H(p) = -Σp(x)log(p(x))\n",
    "\n",
    "\n",
    "action_probability = [0.25, 0.25, 0.25, 0.25]\n",
    "print(entropy(action_probability))"
   ],
   "metadata": {
    "collapsed": false,
    "ExecuteTime": {
     "end_time": "2024-07-12T07:30:16.994544700Z",
     "start_time": "2024-07-12T07:30:16.972545400Z"
    }
   },
   "id": "4be4d52c83643b96",
   "execution_count": 8
  },
  {
   "cell_type": "code",
   "outputs": [],
   "source": [
    "class DiscretePolicy(object):\n",
    "    def __init__(self, num_actions):\n",
    "        self.action_dim = num_actions\n",
    "\n",
    "    def sample(self, action_logits):\n",
    "        self.distribution = tfp.distributions.Multinomial(\n",
    "            logits=action_logits, total_count=1)\n",
    "        return self.distribution.sample(1)\n",
    "\n",
    "    def get_action(self, action_logits):\n",
    "        action = self.sample(action_logits)\n",
    "        return np.where(action)[-1]\n",
    "\n",
    "    def entropy(self, action_probability):\n",
    "        return -tf.reduce_sum(action_probability * tf.math.log(action_probability), axis=-1)"
   ],
   "metadata": {
    "collapsed": false,
    "ExecuteTime": {
     "end_time": "2024-07-12T07:35:06.168294700Z",
     "start_time": "2024-07-12T07:35:06.148297300Z"
    }
   },
   "id": "75aea6ad7818ce35",
   "execution_count": 9
  },
  {
   "cell_type": "code",
   "outputs": [],
   "source": [
    "def evaluate(agent, env, render=True):\n",
    "    global info\n",
    "    obs, episode_reward, done, step_num = env.reset(), 0.0, False, 0\n",
    "    while not done:\n",
    "        action = agent.get_action(obs)\n",
    "        obs, reward, done, info = env.step(action)\n",
    "        episode_reward += reward\n",
    "        step_num += 1\n",
    "        if render:\n",
    "            env.render()\n",
    "    return episode_reward, step_num, done, info"
   ],
   "metadata": {
    "collapsed": false,
    "ExecuteTime": {
     "end_time": "2024-07-12T07:40:05.641496Z",
     "start_time": "2024-07-12T07:40:05.626494100Z"
    }
   },
   "id": "fa59c59ed11d7ced",
   "execution_count": 11
  },
  {
   "cell_type": "code",
   "outputs": [],
   "source": [
    "class Brain(keras.Model):\n",
    "    "
   ],
   "metadata": {
    "collapsed": false
   },
   "id": "9662778b0460f2a2"
  }
 ],
 "metadata": {
  "kernelspec": {
   "display_name": "Python 3",
   "language": "python",
   "name": "python3"
  },
  "language_info": {
   "codemirror_mode": {
    "name": "ipython",
    "version": 2
   },
   "file_extension": ".py",
   "mimetype": "text/x-python",
   "name": "python",
   "nbconvert_exporter": "python",
   "pygments_lexer": "ipython2",
   "version": "2.7.6"
  }
 },
 "nbformat": 4,
 "nbformat_minor": 5
}
